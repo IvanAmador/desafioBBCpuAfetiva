{
  "nbformat": 4,
  "nbformat_minor": 0,
  "metadata": {
    "colab": {
      "name": "imgPrep.ipynb",
      "provenance": [],
      "collapsed_sections": []
    },
    "kernelspec": {
      "name": "python3",
      "display_name": "Python 3"
    }
  },
  "cells": [
    {
      "cell_type": "code",
      "metadata": {
        "id": "pcwb849dTHia",
        "colab_type": "code",
        "colab": {}
      },
      "source": [
        "from urllib.request import urlretrieve\n",
        "import os\n",
        "\n",
        "def download(url, file):\n",
        "    if not os.path.isfile(file):\n",
        "        print(\"Download file... \" + file + \" ...\")\n",
        "        urlretrieve(url,file)\n",
        "        print(\"File downloaded\")\n",
        "        \n",
        "download('https://github.com/cmusatyalab/openface/raw/master/openface/align_dlib.py', 'align_dlib.py') \n",
        "download('https://github.com/JeffTrain/selfie/raw/master/shape_predictor_68_face_landmarks.dat', 'shape_predictor_68_face_landmarks.dat')\n",
        "print(\"All the files are downloaded\")"
      ],
      "execution_count": 0,
      "outputs": []
    },
    {
      "cell_type": "code",
      "metadata": {
        "id": "XKhCtQOgOYrI",
        "colab_type": "code",
        "colab": {}
      },
      "source": [
        "from google.colab import drive\n",
        "drive.mount('/content/drive')"
      ],
      "execution_count": 0,
      "outputs": []
    },
    {
      "cell_type": "code",
      "metadata": {
        "id": "CHPyYwegOWNB",
        "colab_type": "code",
        "colab": {}
      },
      "source": [
        "import cv2\n",
        "import glob\n",
        "import align_dlib as opf\n",
        "from google.colab.patches import cv2_imshow\n",
        "\n",
        "align = opf.AlignDlib('/content/shape_predictor_68_face_landmarks.dat')\n",
        "\n",
        "def image_prep(path):\n",
        "  nb = 1\n",
        "  images = [cv2.imread(file) for file in glob.glob(path)]\n",
        "  for img in images:\n",
        "    bb = align.getLargestFaceBoundingBox(img)\n",
        "    alignedFace = align.align(256, img, bb, landmarkIndices=opf.AlignDlib.OUTER_EYES_AND_NOSE)\n",
        "    cv2_imshow(alignedFace)\n",
        "    cv2.imwrite('/content/drive/My Drive/DataSet Desafio BB/data/train/0/%s.jpg' % (nb), alignedFace)\n",
        "    nb=nb+1"
      ],
      "execution_count": 0,
      "outputs": []
    }
  ]
}
