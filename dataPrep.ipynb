{
  "nbformat": 4,
  "nbformat_minor": 0,
  "metadata": {
    "colab": {
      "name": "openface.ipynb",
      "provenance": [],
      "collapsed_sections": []
    },
    "kernelspec": {
      "name": "python3",
      "display_name": "Python 3"
    }
  },
  "cells": [
    {
      "cell_type": "code",
      "metadata": {
        "id": "pcwb849dTHia",
        "colab_type": "code",
        "colab": {
          "base_uri": "https://localhost:8080/",
          "height": 102
        },
        "outputId": "7b078438-87f9-4bdc-944c-32bf772fbca0"
      },
      "source": [
        "##Download do dataset diretamente da URL\n",
        "from urllib.request import urlretrieve\n",
        "import os\n",
        "\n",
        "def download(url, file):\n",
        "    if not os.path.isfile(file):\n",
        "        print(\"Download file... \" + file + \" ...\")\n",
        "        urlretrieve(url,file)\n",
        "        print(\"File downloaded\")\n",
        "        \n",
        "download('https://github.com/cmusatyalab/openface/raw/master/openface/align_dlib.py', 'align_dlib.py') \n",
        "download('https://github.com/JeffTrain/selfie/raw/master/shape_predictor_68_face_landmarks.dat', 'shape_predictor_68_face_landmarks.dat')\n",
        "print(\"All the files are downloaded\")"
      ],
      "execution_count": 1,
      "outputs": [
        {
          "output_type": "stream",
          "text": [
            "Download file... align_dlib.py ...\n",
            "File downloaded\n",
            "Download file... shape_predictor_68_face_landmarks.dat ...\n",
            "File downloaded\n",
            "All the files are downloaded\n"
          ],
          "name": "stdout"
        }
      ]
    },
    {
      "cell_type": "code",
      "metadata": {
        "id": "XKhCtQOgOYrI",
        "colab_type": "code",
        "colab": {
          "base_uri": "https://localhost:8080/",
          "height": 122
        },
        "outputId": "6f2b22e1-873d-47a2-d40a-a1de6049cd35"
      },
      "source": [
        "from google.colab import drive\n",
        "drive.mount('/content/drive')"
      ],
      "execution_count": 16,
      "outputs": [
        {
          "output_type": "stream",
          "text": [
            "Go to this URL in a browser: https://accounts.google.com/o/oauth2/auth?client_id=947318989803-6bn6qk8qdgf4n4g3pfee6491hc0brc4i.apps.googleusercontent.com&redirect_uri=urn%3Aietf%3Awg%3Aoauth%3A2.0%3Aoob&scope=email%20https%3A%2F%2Fwww.googleapis.com%2Fauth%2Fdocs.test%20https%3A%2F%2Fwww.googleapis.com%2Fauth%2Fdrive%20https%3A%2F%2Fwww.googleapis.com%2Fauth%2Fdrive.photos.readonly%20https%3A%2F%2Fwww.googleapis.com%2Fauth%2Fpeopleapi.readonly&response_type=code\n",
            "\n",
            "Enter your authorization code:\n",
            "··········\n",
            "Mounted at /content/drive\n"
          ],
          "name": "stdout"
        }
      ]
    },
    {
      "cell_type": "code",
      "metadata": {
        "id": "CHPyYwegOWNB",
        "colab_type": "code",
        "colab": {}
      },
      "source": [
        "import cv2\n",
        "import glob\n",
        "import align_dlib as opf\n",
        "from google.colab.patches import cv2_imshow\n",
        "\n",
        "align = opf.AlignDlib('/content/shape_predictor_68_face_landmarks.dat')\n",
        "\n",
        "def image_prep(path):\n",
        "  nb = 1\n",
        "  images = [cv2.imread(file) for file in glob.glob(path)]\n",
        "  for img in images:\n",
        "    bb = align.getLargestFaceBoundingBox(img)\n",
        "    alignedFace = align.align(256, img, bb, landmarkIndices=opf.AlignDlib.OUTER_EYES_AND_NOSE)\n",
        "    cv2_imshow(alignedFace)\n",
        "    cv2.imwrite('/content/drive/My Drive/DataSet Desafio BB/data/train/0/%s.jpg' % (nb), alignedFace)\n",
        "    nb=nb+1"
      ],
      "execution_count": 0,
      "outputs": []
    }
  ]
}